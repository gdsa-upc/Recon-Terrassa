{
 "cells": [
  {
   "cell_type": "markdown",
   "metadata": {},
   "source": [
    "# Notebook Sessió 5"
   ]
  },
  {
   "cell_type": "raw",
   "metadata": {},
   "source": [
    "En aquesta sessió probarem diferents configuracións del nostre codi per veure quina ens aporta millors resultats."
   ]
  },
  {
   "cell_type": "markdown",
   "metadata": {},
   "source": [
    "# Rankings per SIFT 128 clusters"
   ]
  },
  {
   "cell_type": "raw",
   "metadata": {},
   "source": [
    "Ara ejecutarem el codi per veure els resultats. Mostrarem el MAP i el resultats de precisio de cada una de les classes de imatge."
   ]
  },
  {
   "cell_type": "code",
   "execution_count": 1,
   "metadata": {
    "collapsed": false
   },
   "outputs": [
    {
     "name": "stdout",
     "output_type": "stream",
     "text": [
      "0.220180632686\n",
      "mercat_independencia 0.165294955478\n",
      "societat_general 0.222450433806\n",
      "farmacia_albinyana 0.326913033304\n",
      "ajuntament 0.625953015161\n",
      "mnactec 0.162911942987\n",
      "escola_enginyeria 0.190812389125\n",
      "masia_freixa 0.103088844404\n",
      "castell_cartoixa 0.16544298011\n",
      "dona_treballadora 0.0731263881806\n",
      "catedral 0.184333020945\n",
      "teatre_principal 0.297362331927\n",
      "estacio_nord 0.124478256799\n"
     ]
    }
   ],
   "source": [
    "import sys\n",
    "import numpy as np\n",
    "sys.path.insert(0,'C:\\Users\\Albert\\UPC\\\\5Q\\GDSA\\Recon-Terrassa\\Projecte')\n",
    "from src.params import get_params\n",
    "from src.eval_rankings import eval_rankings\n",
    "from src.eval_rankings import single_eval\n",
    "from src.rank import rank\n",
    "\n",
    "params = get_params()\n",
    "params['descriptor_size'] = 128\n",
    "params['descriptor_type'] = 'SIFT'\n",
    "params['keypoint_type'] = 'SIFT'\n",
    "\n",
    "rank(params)\n",
    "\n",
    "ap_list, dict_ = eval_rankings(params)\n",
    "    \n",
    "print np.mean(ap_list)\n",
    "\n",
    "for id in dict_.keys():\n",
    "    if not id == 'desconegut':\n",
    "        # We divide by 10 because it's the number of images per class in the validation set.\n",
    "        print id, dict_[id]/10"
   ]
  },
  {
   "cell_type": "raw",
   "metadata": {},
   "source": [
    "Amb aquesta configuració obtenim un MAP de 0.22, recordem que el millor resultat possible és 1. No és un resultat molt elevat veurem amb les altres configuracions. També podem observar que pel que fa l'edifici ajuntamen obtenim un resultat bastant més elevat que els altres edificis."
   ]
  },
  {
   "cell_type": "markdown",
   "metadata": {},
   "source": [
    "# Ranking per SIFT 512 clusters"
   ]
  },
  {
   "cell_type": "code",
   "execution_count": 2,
   "metadata": {
    "collapsed": false
   },
   "outputs": [
    {
     "name": "stdout",
     "output_type": "stream",
     "text": [
      "0.235510439227\n",
      "mercat_independencia 0.156106612084\n",
      "societat_general 0.216373537899\n",
      "farmacia_albinyana 0.348764603014\n",
      "ajuntament 0.755393749556\n",
      "mnactec 0.155327397968\n",
      "escola_enginyeria 0.22321626441\n",
      "masia_freixa 0.0898497598282\n",
      "castell_cartoixa 0.155022902454\n",
      "dona_treballadora 0.0737083841991\n",
      "catedral 0.187311972403\n",
      "teatre_principal 0.348364270754\n",
      "estacio_nord 0.116685816155\n"
     ]
    }
   ],
   "source": [
    "params['descriptor_size'] = 512\n",
    "params['descriptor_type'] = 'SIFT'\n",
    "params['keypoint_type'] = 'SIFT'\n",
    "\n",
    "rank(params)\n",
    "\n",
    "ap_list, dict_ = eval_rankings(params)\n",
    "    \n",
    "print np.mean(ap_list)\n",
    "\n",
    "for id in dict_.keys():\n",
    "    if not id == 'desconegut':\n",
    "        # We divide by 10 because it's the number of images per class in the validation set.\n",
    "        print id, dict_[id]/10"
   ]
  },
  {
   "cell_type": "raw",
   "metadata": {},
   "source": [
    "Amb 512 clusters podem veure com el MAP ha millorat, ara és de 0.236, en alguns edificis ha augmentat la precisió i en altres a disminuit pero en general ha anat millor."
   ]
  },
  {
   "cell_type": "markdown",
   "metadata": {},
   "source": [
    "# Ranking per SIFT 1024 clusters"
   ]
  },
  {
   "cell_type": "code",
   "execution_count": 5,
   "metadata": {
    "collapsed": false
   },
   "outputs": [
    {
     "name": "stdout",
     "output_type": "stream",
     "text": [
      "0.244348766117\n",
      "mercat_independencia 0.143674373232\n",
      "societat_general 0.223475189711\n",
      "farmacia_albinyana 0.369445804817\n",
      "ajuntament 0.736621806399\n",
      "mnactec 0.189148000306\n",
      "escola_enginyeria 0.229793846855\n",
      "masia_freixa 0.112563667377\n",
      "castell_cartoixa 0.166125258888\n",
      "dona_treballadora 0.0878305997813\n",
      "catedral 0.167924347925\n",
      "teatre_principal 0.395545666312\n",
      "estacio_nord 0.110036631797\n"
     ]
    }
   ],
   "source": [
    "params['descriptor_size'] = 1024\n",
    "params['descriptor_type'] = 'SIFT'\n",
    "params['keypoint_type'] = 'SIFT'\n",
    "\n",
    "rank(params)\n",
    "\n",
    "ap_list, dict_ = eval_rankings(params)\n",
    "    \n",
    "print np.mean(ap_list)\n",
    "\n",
    "for id in dict_.keys():\n",
    "    if not id == 'desconegut':\n",
    "        # We divide by 10 because it's the number of images per class in the validation set.\n",
    "        print id, dict_[id]/10"
   ]
  },
  {
   "cell_type": "raw",
   "metadata": {},
   "source": [
    "Augmentant el tamany dels clusters veiem com segueix millorant els nostres resultats. Ara amb un MAP de 0.244"
   ]
  },
  {
   "cell_type": "markdown",
   "metadata": {},
   "source": [
    "# Ranking per ORB 1024 clusters"
   ]
  },
  {
   "cell_type": "code",
   "execution_count": 6,
   "metadata": {
    "collapsed": false
   },
   "outputs": [
    {
     "name": "stdout",
     "output_type": "stream",
     "text": [
      "0.164638457097\n",
      "mercat_independencia 0.115435873934\n",
      "societat_general 0.145886484796\n",
      "farmacia_albinyana 0.16099774563\n",
      "ajuntament 0.343272585433\n",
      "mnactec 0.119292134101\n",
      "escola_enginyeria 0.209121568686\n",
      "masia_freixa 0.171886816817\n",
      "castell_cartoixa 0.0806868307484\n",
      "dona_treballadora 0.226830083804\n",
      "catedral 0.125385450052\n",
      "teatre_principal 0.188277258626\n",
      "estacio_nord 0.0885886525381\n"
     ]
    }
   ],
   "source": [
    "params['descriptor_size'] = 1024\n",
    "params['descriptor_type'] = 'ORB'\n",
    "params['keypoint_type'] = 'ORB'\n",
    "\n",
    "rank(params)\n",
    "\n",
    "ap_list, dict_ = eval_rankings(params)\n",
    "    \n",
    "print np.mean(ap_list)\n",
    "\n",
    "for id in dict_.keys():\n",
    "    if not id == 'desconegut':\n",
    "        # We divide by 10 because it's the number of images per class in the validation set.\n",
    "        print id, dict_[id]/10"
   ]
  },
  {
   "cell_type": "raw",
   "metadata": {},
   "source": [
    "Pel cas dels descriptors ORB podem veure com els resultats empitjoran molt el resultat. Obtenint un MAP de 0.164"
   ]
  },
  {
   "cell_type": "markdown",
   "metadata": {},
   "source": [
    "# Ranking per RootSIFT 1024 clusters"
   ]
  },
  {
   "cell_type": "code",
   "execution_count": 7,
   "metadata": {
    "collapsed": false
   },
   "outputs": [
    {
     "name": "stdout",
     "output_type": "stream",
     "text": [
      "0.236051207686\n",
      "mercat_independencia 0.137977063027\n",
      "societat_general 0.249714124661\n",
      "farmacia_albinyana 0.341019703535\n",
      "ajuntament 0.708407584693\n",
      "mnactec 0.142155551714\n",
      "escola_enginyeria 0.223466562161\n",
      "masia_freixa 0.112210943842\n",
      "castell_cartoixa 0.176309982507\n",
      "dona_treballadora 0.06886474132\n",
      "catedral 0.181560357764\n",
      "teatre_principal 0.379430474087\n",
      "estacio_nord 0.111497402917\n"
     ]
    }
   ],
   "source": [
    "params['descriptor_size'] = 512\n",
    "params['descriptor_type'] = 'RootSIFT'\n",
    "params['keypoint_type'] = 'SIFT'\n",
    "\n",
    "rank(params)\n",
    "\n",
    "ap_list, dict_ = eval_rankings(params)\n",
    "    \n",
    "print np.mean(ap_list)\n",
    "\n",
    "for id in dict_.keys():\n",
    "    if not id == 'desconegut':\n",
    "        # We divide by 10 because it's the number of images per class in the validation set.\n",
    "        print id, dict_[id]/10"
   ]
  },
  {
   "cell_type": "raw",
   "metadata": {},
   "source": [
    "Podem observar que en aquest cas ens dona pitjor resultat que en el cas de SIFT amb 1024 clusters, si que es vritat que ens dona un resultat una miqueta superior al de SIFT amb 512 clusters. "
   ]
  },
  {
   "cell_type": "markdown",
   "metadata": {},
   "source": [
    "# Ranking per SIFT 1024 clusters + TF-IDF "
   ]
  },
  {
   "cell_type": "raw",
   "metadata": {},
   "source": [
    "Ara ejecutem un codi millorat en el qual utilitzem la tecnica de Term Frequency - Inverse Document Frequency (TF-IDF)."
   ]
  },
  {
   "cell_type": "code",
   "execution_count": 8,
   "metadata": {
    "collapsed": false
   },
   "outputs": [
    {
     "name": "stdout",
     "output_type": "stream",
     "text": [
      "0.239322107487\n",
      "mercat_independencia 0.135351102369\n",
      "societat_general 0.220944983457\n",
      "farmacia_albinyana 0.373596644416\n",
      "ajuntament 0.735694249851\n",
      "mnactec 0.172941654454\n",
      "escola_enginyeria 0.206718548127\n",
      "masia_freixa 0.0969139679752\n",
      "castell_cartoixa 0.187823658454\n",
      "dona_treballadora 0.0756578355482\n",
      "catedral 0.181272572245\n",
      "teatre_principal 0.381354206323\n",
      "estacio_nord 0.103595866631\n"
     ]
    }
   ],
   "source": [
    "params['descriptor_size'] = 1024\n",
    "params['descriptor_type'] = 'SIFT'\n",
    "params['keypoint_type'] = 'SIFT'\n",
    "\n",
    "rank(params)\n",
    "\n",
    "ap_list, dict_ = eval_rankings(params)\n",
    "    \n",
    "print np.mean(ap_list)\n",
    "\n",
    "for id in dict_.keys():\n",
    "    if not id == 'desconegut':\n",
    "        # We divide by 10 because it's the number of images per class in the validation set.\n",
    "        print id, dict_[id]/10"
   ]
  },
  {
   "cell_type": "raw",
   "metadata": {},
   "source": [
    "Sembla que tampoc ens millora el resultat obtingut amb la configuració SIFT amb 1024 clusters. Aquest cop amb un MAP de 0.239 "
   ]
  }
 ],
 "metadata": {
  "kernelspec": {
   "display_name": "Python 2",
   "language": "python",
   "name": "python2"
  },
  "language_info": {
   "codemirror_mode": {
    "name": "ipython",
    "version": 2
   },
   "file_extension": ".py",
   "mimetype": "text/x-python",
   "name": "python",
   "nbconvert_exporter": "python",
   "pygments_lexer": "ipython2",
   "version": "2.7.11"
  }
 },
 "nbformat": 4,
 "nbformat_minor": 0
}
